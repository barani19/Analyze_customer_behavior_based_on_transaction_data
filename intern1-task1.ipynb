{
 "cells": [
  {
   "cell_type": "code",
   "execution_count": 1,
   "id": "04a020f7",
   "metadata": {
    "_cell_guid": "b1076dfc-b9ad-4769-8c92-a6c4dae69d19",
    "_uuid": "8f2839f25d086af736a60e9eeb907d3b93b6e0e5",
    "execution": {
     "iopub.execute_input": "2024-03-03T13:28:23.103232Z",
     "iopub.status.busy": "2024-03-03T13:28:23.102826Z",
     "iopub.status.idle": "2024-03-03T13:28:24.034212Z",
     "shell.execute_reply": "2024-03-03T13:28:24.033034Z"
    },
    "papermill": {
     "duration": 0.944654,
     "end_time": "2024-03-03T13:28:24.037280",
     "exception": false,
     "start_time": "2024-03-03T13:28:23.092626",
     "status": "completed"
    },
    "tags": []
   },
   "outputs": [],
   "source": [
    "import pandas as pd\n",
    "import numpy as np"
   ]
  },
  {
   "cell_type": "code",
   "execution_count": 2,
   "id": "954ff00c",
   "metadata": {
    "execution": {
     "iopub.execute_input": "2024-03-03T13:28:24.055592Z",
     "iopub.status.busy": "2024-03-03T13:28:24.055036Z",
     "iopub.status.idle": "2024-03-03T13:28:24.189746Z",
     "shell.execute_reply": "2024-03-03T13:28:24.188654Z"
    },
    "papermill": {
     "duration": 0.146912,
     "end_time": "2024-03-03T13:28:24.192498",
     "exception": false,
     "start_time": "2024-03-03T13:28:24.045586",
     "status": "completed"
    },
    "tags": []
   },
   "outputs": [],
   "source": [
    "store = pd.read_csv('../input/store-transaction-data/Hackathon_Working_Data.csv')"
   ]
  },
  {
   "cell_type": "code",
   "execution_count": 3,
   "id": "5ab5ce4f",
   "metadata": {
    "execution": {
     "iopub.execute_input": "2024-03-03T13:28:24.210985Z",
     "iopub.status.busy": "2024-03-03T13:28:24.210614Z",
     "iopub.status.idle": "2024-03-03T13:28:24.238210Z",
     "shell.execute_reply": "2024-03-03T13:28:24.237162Z"
    },
    "papermill": {
     "duration": 0.039853,
     "end_time": "2024-03-03T13:28:24.240769",
     "exception": false,
     "start_time": "2024-03-03T13:28:24.200916",
     "status": "completed"
    },
    "tags": []
   },
   "outputs": [
    {
     "data": {
      "text/html": [
       "<div>\n",
       "<style scoped>\n",
       "    .dataframe tbody tr th:only-of-type {\n",
       "        vertical-align: middle;\n",
       "    }\n",
       "\n",
       "    .dataframe tbody tr th {\n",
       "        vertical-align: top;\n",
       "    }\n",
       "\n",
       "    .dataframe thead th {\n",
       "        text-align: right;\n",
       "    }\n",
       "</style>\n",
       "<table border=\"1\" class=\"dataframe\">\n",
       "  <thead>\n",
       "    <tr style=\"text-align: right;\">\n",
       "      <th></th>\n",
       "      <th>MONTH</th>\n",
       "      <th>STORECODE</th>\n",
       "      <th>DAY</th>\n",
       "      <th>BILL_ID</th>\n",
       "      <th>BILL_AMT</th>\n",
       "      <th>QTY</th>\n",
       "      <th>VALUE</th>\n",
       "      <th>PRICE</th>\n",
       "      <th>GRP</th>\n",
       "      <th>SGRP</th>\n",
       "      <th>SSGRP</th>\n",
       "      <th>CMP</th>\n",
       "      <th>MBRD</th>\n",
       "      <th>BRD</th>\n",
       "    </tr>\n",
       "  </thead>\n",
       "  <tbody>\n",
       "    <tr>\n",
       "      <th>0</th>\n",
       "      <td>M1</td>\n",
       "      <td>N1</td>\n",
       "      <td>4</td>\n",
       "      <td>T375</td>\n",
       "      <td>225.0</td>\n",
       "      <td>1.0</td>\n",
       "      <td>225.0</td>\n",
       "      <td>225.0</td>\n",
       "      <td>BUTTER MARGR  (4/94)</td>\n",
       "      <td>BUTTER</td>\n",
       "      <td>SALTED</td>\n",
       "      <td>G C M M F</td>\n",
       "      <td>AMUL</td>\n",
       "      <td>AMUL</td>\n",
       "    </tr>\n",
       "    <tr>\n",
       "      <th>1</th>\n",
       "      <td>M1</td>\n",
       "      <td>N1</td>\n",
       "      <td>4</td>\n",
       "      <td>T379</td>\n",
       "      <td>95.0</td>\n",
       "      <td>1.0</td>\n",
       "      <td>95.0</td>\n",
       "      <td>95.0</td>\n",
       "      <td>CONFECTIONERY - ECLAIRS</td>\n",
       "      <td>CONFECTIONERY - ECLAIRS</td>\n",
       "      <td>CONFECTIONERY - ECLAIRS</td>\n",
       "      <td>PARLE PRODS</td>\n",
       "      <td>MELODY</td>\n",
       "      <td>MELODY CHOCOLATY</td>\n",
       "    </tr>\n",
       "    <tr>\n",
       "      <th>2</th>\n",
       "      <td>M1</td>\n",
       "      <td>N1</td>\n",
       "      <td>4</td>\n",
       "      <td>T381</td>\n",
       "      <td>10.0</td>\n",
       "      <td>1.0</td>\n",
       "      <td>10.0</td>\n",
       "      <td>10.0</td>\n",
       "      <td>CHOCOLATE</td>\n",
       "      <td>CHOCOLATE PANNED</td>\n",
       "      <td>CHOCOLATE PANNED</td>\n",
       "      <td>MONDELEZ INTERNATIONAL</td>\n",
       "      <td>CADBURY SHOTS</td>\n",
       "      <td>CADBURY SHOTS</td>\n",
       "    </tr>\n",
       "    <tr>\n",
       "      <th>3</th>\n",
       "      <td>M1</td>\n",
       "      <td>N1</td>\n",
       "      <td>4</td>\n",
       "      <td>T382</td>\n",
       "      <td>108.0</td>\n",
       "      <td>1.0</td>\n",
       "      <td>108.0</td>\n",
       "      <td>108.0</td>\n",
       "      <td>PACKAGED TEA</td>\n",
       "      <td>MAIN PACKS</td>\n",
       "      <td>MAIN PACKS</td>\n",
       "      <td>GUJ TEA PROCESSORS</td>\n",
       "      <td>WAGH BAKRI</td>\n",
       "      <td>WAGH BAKRI INSTANT</td>\n",
       "    </tr>\n",
       "    <tr>\n",
       "      <th>4</th>\n",
       "      <td>M1</td>\n",
       "      <td>N1</td>\n",
       "      <td>4</td>\n",
       "      <td>T384</td>\n",
       "      <td>19.0</td>\n",
       "      <td>1.0</td>\n",
       "      <td>19.0</td>\n",
       "      <td>19.0</td>\n",
       "      <td>ALL IODISED SALT</td>\n",
       "      <td>POWDERED SALT</td>\n",
       "      <td>POWDERED SALT</td>\n",
       "      <td>TATA CHEM</td>\n",
       "      <td>TATA</td>\n",
       "      <td>TATA SALT</td>\n",
       "    </tr>\n",
       "  </tbody>\n",
       "</table>\n",
       "</div>"
      ],
      "text/plain": [
       "  MONTH STORECODE  DAY BILL_ID  BILL_AMT  QTY  VALUE  PRICE  \\\n",
       "0    M1        N1    4    T375     225.0  1.0  225.0  225.0   \n",
       "1    M1        N1    4    T379      95.0  1.0   95.0   95.0   \n",
       "2    M1        N1    4    T381      10.0  1.0   10.0   10.0   \n",
       "3    M1        N1    4    T382     108.0  1.0  108.0  108.0   \n",
       "4    M1        N1    4    T384      19.0  1.0   19.0   19.0   \n",
       "\n",
       "                       GRP                     SGRP                    SSGRP  \\\n",
       "0     BUTTER MARGR  (4/94)                   BUTTER                   SALTED   \n",
       "1  CONFECTIONERY - ECLAIRS  CONFECTIONERY - ECLAIRS  CONFECTIONERY - ECLAIRS   \n",
       "2                CHOCOLATE         CHOCOLATE PANNED         CHOCOLATE PANNED   \n",
       "3             PACKAGED TEA               MAIN PACKS               MAIN PACKS   \n",
       "4         ALL IODISED SALT            POWDERED SALT            POWDERED SALT   \n",
       "\n",
       "                      CMP           MBRD                 BRD  \n",
       "0               G C M M F           AMUL                AMUL  \n",
       "1             PARLE PRODS         MELODY    MELODY CHOCOLATY  \n",
       "2  MONDELEZ INTERNATIONAL  CADBURY SHOTS       CADBURY SHOTS  \n",
       "3      GUJ TEA PROCESSORS     WAGH BAKRI  WAGH BAKRI INSTANT  \n",
       "4               TATA CHEM           TATA           TATA SALT  "
      ]
     },
     "execution_count": 3,
     "metadata": {},
     "output_type": "execute_result"
    }
   ],
   "source": [
    "store.head()"
   ]
  },
  {
   "cell_type": "code",
   "execution_count": 4,
   "id": "0ab3a793",
   "metadata": {
    "execution": {
     "iopub.execute_input": "2024-03-03T13:28:24.259655Z",
     "iopub.status.busy": "2024-03-03T13:28:24.259257Z",
     "iopub.status.idle": "2024-03-03T13:28:24.279347Z",
     "shell.execute_reply": "2024-03-03T13:28:24.278237Z"
    },
    "papermill": {
     "duration": 0.032291,
     "end_time": "2024-03-03T13:28:24.281712",
     "exception": false,
     "start_time": "2024-03-03T13:28:24.249421",
     "status": "completed"
    },
    "tags": []
   },
   "outputs": [
    {
     "data": {
      "text/html": [
       "<div>\n",
       "<style scoped>\n",
       "    .dataframe tbody tr th:only-of-type {\n",
       "        vertical-align: middle;\n",
       "    }\n",
       "\n",
       "    .dataframe tbody tr th {\n",
       "        vertical-align: top;\n",
       "    }\n",
       "\n",
       "    .dataframe thead th {\n",
       "        text-align: right;\n",
       "    }\n",
       "</style>\n",
       "<table border=\"1\" class=\"dataframe\">\n",
       "  <thead>\n",
       "    <tr style=\"text-align: right;\">\n",
       "      <th></th>\n",
       "      <th>MONTH</th>\n",
       "      <th>STORECODE</th>\n",
       "      <th>DAY</th>\n",
       "      <th>BILL_ID</th>\n",
       "      <th>BILL_AMT</th>\n",
       "      <th>QTY</th>\n",
       "      <th>VALUE</th>\n",
       "      <th>PRICE</th>\n",
       "      <th>GRP</th>\n",
       "      <th>SGRP</th>\n",
       "      <th>SSGRP</th>\n",
       "      <th>CMP</th>\n",
       "      <th>MBRD</th>\n",
       "      <th>BRD</th>\n",
       "    </tr>\n",
       "  </thead>\n",
       "  <tbody>\n",
       "    <tr>\n",
       "      <th>26980</th>\n",
       "      <td>M3</td>\n",
       "      <td>N10</td>\n",
       "      <td>31</td>\n",
       "      <td>T5999</td>\n",
       "      <td>10.0</td>\n",
       "      <td>1.0</td>\n",
       "      <td>10.0</td>\n",
       "      <td>10.0</td>\n",
       "      <td>BISCUITS - CORE &amp; NON CORE</td>\n",
       "      <td>NON-SALT CRACKER</td>\n",
       "      <td>NON-SALT CRACKER</td>\n",
       "      <td>PARLE PRODS</td>\n",
       "      <td>PARLE KRACK JACK</td>\n",
       "      <td>PARLE KRACK JACK</td>\n",
       "    </tr>\n",
       "    <tr>\n",
       "      <th>26981</th>\n",
       "      <td>M3</td>\n",
       "      <td>N10</td>\n",
       "      <td>31</td>\n",
       "      <td>T6007</td>\n",
       "      <td>88.0</td>\n",
       "      <td>1.0</td>\n",
       "      <td>10.0</td>\n",
       "      <td>10.0</td>\n",
       "      <td>BISCUITS - CORE &amp; NON CORE</td>\n",
       "      <td>MARIE</td>\n",
       "      <td>MARIE</td>\n",
       "      <td>PARLE PRODS</td>\n",
       "      <td>PARLE MARIE</td>\n",
       "      <td>PARLE MARIE</td>\n",
       "    </tr>\n",
       "    <tr>\n",
       "      <th>26982</th>\n",
       "      <td>M3</td>\n",
       "      <td>N10</td>\n",
       "      <td>31</td>\n",
       "      <td>T6007</td>\n",
       "      <td>88.0</td>\n",
       "      <td>2.0</td>\n",
       "      <td>20.0</td>\n",
       "      <td>10.0</td>\n",
       "      <td>BISCUITS - CORE &amp; NON CORE</td>\n",
       "      <td>GLUCOSE</td>\n",
       "      <td>GLUCOSE</td>\n",
       "      <td>PARLE PRODS</td>\n",
       "      <td>PARLE-G</td>\n",
       "      <td>PARLE-G</td>\n",
       "    </tr>\n",
       "    <tr>\n",
       "      <th>26983</th>\n",
       "      <td>M3</td>\n",
       "      <td>N10</td>\n",
       "      <td>31</td>\n",
       "      <td>T6007</td>\n",
       "      <td>88.0</td>\n",
       "      <td>1.0</td>\n",
       "      <td>58.0</td>\n",
       "      <td>58.0</td>\n",
       "      <td>CLEANERS - GLASS</td>\n",
       "      <td>LIQUIDS</td>\n",
       "      <td>LIQUIDS</td>\n",
       "      <td>RECKITT BENCKISER</td>\n",
       "      <td>COLIN</td>\n",
       "      <td>COLIN</td>\n",
       "    </tr>\n",
       "    <tr>\n",
       "      <th>26984</th>\n",
       "      <td>M3</td>\n",
       "      <td>N10</td>\n",
       "      <td>31</td>\n",
       "      <td>T6013</td>\n",
       "      <td>15.0</td>\n",
       "      <td>1.0</td>\n",
       "      <td>15.0</td>\n",
       "      <td>15.0</td>\n",
       "      <td>BISCUITS - CORE &amp; NON CORE</td>\n",
       "      <td>SWEET/COOKIES</td>\n",
       "      <td>SWEET/COOKIES</td>\n",
       "      <td>SAJ INDS</td>\n",
       "      <td>BISK FARM</td>\n",
       "      <td>BISK FARM JUST GINGER</td>\n",
       "    </tr>\n",
       "  </tbody>\n",
       "</table>\n",
       "</div>"
      ],
      "text/plain": [
       "      MONTH STORECODE  DAY BILL_ID  BILL_AMT  QTY  VALUE  PRICE  \\\n",
       "26980    M3       N10   31   T5999      10.0  1.0   10.0   10.0   \n",
       "26981    M3       N10   31   T6007      88.0  1.0   10.0   10.0   \n",
       "26982    M3       N10   31   T6007      88.0  2.0   20.0   10.0   \n",
       "26983    M3       N10   31   T6007      88.0  1.0   58.0   58.0   \n",
       "26984    M3       N10   31   T6013      15.0  1.0   15.0   15.0   \n",
       "\n",
       "                              GRP              SGRP             SSGRP  \\\n",
       "26980  BISCUITS - CORE & NON CORE  NON-SALT CRACKER  NON-SALT CRACKER   \n",
       "26981  BISCUITS - CORE & NON CORE             MARIE             MARIE   \n",
       "26982  BISCUITS - CORE & NON CORE           GLUCOSE           GLUCOSE   \n",
       "26983            CLEANERS - GLASS           LIQUIDS           LIQUIDS   \n",
       "26984  BISCUITS - CORE & NON CORE     SWEET/COOKIES     SWEET/COOKIES   \n",
       "\n",
       "                     CMP              MBRD                    BRD  \n",
       "26980        PARLE PRODS  PARLE KRACK JACK       PARLE KRACK JACK  \n",
       "26981        PARLE PRODS       PARLE MARIE            PARLE MARIE  \n",
       "26982        PARLE PRODS           PARLE-G                PARLE-G  \n",
       "26983  RECKITT BENCKISER             COLIN                  COLIN  \n",
       "26984           SAJ INDS         BISK FARM  BISK FARM JUST GINGER  "
      ]
     },
     "execution_count": 4,
     "metadata": {},
     "output_type": "execute_result"
    }
   ],
   "source": [
    "store.tail()"
   ]
  },
  {
   "cell_type": "code",
   "execution_count": 5,
   "id": "69fc4b46",
   "metadata": {
    "execution": {
     "iopub.execute_input": "2024-03-03T13:28:24.301323Z",
     "iopub.status.busy": "2024-03-03T13:28:24.300454Z",
     "iopub.status.idle": "2024-03-03T13:28:24.307227Z",
     "shell.execute_reply": "2024-03-03T13:28:24.306240Z"
    },
    "papermill": {
     "duration": 0.019269,
     "end_time": "2024-03-03T13:28:24.309680",
     "exception": false,
     "start_time": "2024-03-03T13:28:24.290411",
     "status": "completed"
    },
    "tags": []
   },
   "outputs": [
    {
     "data": {
      "text/plain": [
       "(26985, 14)"
      ]
     },
     "execution_count": 5,
     "metadata": {},
     "output_type": "execute_result"
    }
   ],
   "source": [
    "store.shape"
   ]
  },
  {
   "cell_type": "code",
   "execution_count": 6,
   "id": "44f0cbdb",
   "metadata": {
    "execution": {
     "iopub.execute_input": "2024-03-03T13:28:24.329363Z",
     "iopub.status.busy": "2024-03-03T13:28:24.328461Z",
     "iopub.status.idle": "2024-03-03T13:28:24.366154Z",
     "shell.execute_reply": "2024-03-03T13:28:24.365075Z"
    },
    "papermill": {
     "duration": 0.050017,
     "end_time": "2024-03-03T13:28:24.368548",
     "exception": false,
     "start_time": "2024-03-03T13:28:24.318531",
     "status": "completed"
    },
    "tags": []
   },
   "outputs": [
    {
     "data": {
      "text/html": [
       "<div>\n",
       "<style scoped>\n",
       "    .dataframe tbody tr th:only-of-type {\n",
       "        vertical-align: middle;\n",
       "    }\n",
       "\n",
       "    .dataframe tbody tr th {\n",
       "        vertical-align: top;\n",
       "    }\n",
       "\n",
       "    .dataframe thead th {\n",
       "        text-align: right;\n",
       "    }\n",
       "</style>\n",
       "<table border=\"1\" class=\"dataframe\">\n",
       "  <thead>\n",
       "    <tr style=\"text-align: right;\">\n",
       "      <th></th>\n",
       "      <th>DAY</th>\n",
       "      <th>BILL_AMT</th>\n",
       "      <th>QTY</th>\n",
       "      <th>VALUE</th>\n",
       "      <th>PRICE</th>\n",
       "    </tr>\n",
       "  </thead>\n",
       "  <tbody>\n",
       "    <tr>\n",
       "      <th>count</th>\n",
       "      <td>26985.000000</td>\n",
       "      <td>26985.000000</td>\n",
       "      <td>26985.000000</td>\n",
       "      <td>26985.000000</td>\n",
       "      <td>26985.000000</td>\n",
       "    </tr>\n",
       "    <tr>\n",
       "      <th>mean</th>\n",
       "      <td>15.167019</td>\n",
       "      <td>278.754206</td>\n",
       "      <td>4.105021</td>\n",
       "      <td>67.808551</td>\n",
       "      <td>52.812982</td>\n",
       "    </tr>\n",
       "    <tr>\n",
       "      <th>std</th>\n",
       "      <td>8.956057</td>\n",
       "      <td>541.398504</td>\n",
       "      <td>95.666947</td>\n",
       "      <td>118.005978</td>\n",
       "      <td>84.987730</td>\n",
       "    </tr>\n",
       "    <tr>\n",
       "      <th>min</th>\n",
       "      <td>1.000000</td>\n",
       "      <td>0.000000</td>\n",
       "      <td>0.500000</td>\n",
       "      <td>0.000000</td>\n",
       "      <td>0.000000</td>\n",
       "    </tr>\n",
       "    <tr>\n",
       "      <th>25%</th>\n",
       "      <td>7.000000</td>\n",
       "      <td>40.000000</td>\n",
       "      <td>1.000000</td>\n",
       "      <td>10.000000</td>\n",
       "      <td>10.000000</td>\n",
       "    </tr>\n",
       "    <tr>\n",
       "      <th>50%</th>\n",
       "      <td>14.000000</td>\n",
       "      <td>111.000000</td>\n",
       "      <td>1.000000</td>\n",
       "      <td>30.000000</td>\n",
       "      <td>22.000000</td>\n",
       "    </tr>\n",
       "    <tr>\n",
       "      <th>75%</th>\n",
       "      <td>23.000000</td>\n",
       "      <td>280.000000</td>\n",
       "      <td>2.000000</td>\n",
       "      <td>80.000000</td>\n",
       "      <td>64.000000</td>\n",
       "    </tr>\n",
       "    <tr>\n",
       "      <th>max</th>\n",
       "      <td>31.000000</td>\n",
       "      <td>7292.000000</td>\n",
       "      <td>12000.000000</td>\n",
       "      <td>3150.000000</td>\n",
       "      <td>3150.000000</td>\n",
       "    </tr>\n",
       "  </tbody>\n",
       "</table>\n",
       "</div>"
      ],
      "text/plain": [
       "                DAY      BILL_AMT           QTY         VALUE         PRICE\n",
       "count  26985.000000  26985.000000  26985.000000  26985.000000  26985.000000\n",
       "mean      15.167019    278.754206      4.105021     67.808551     52.812982\n",
       "std        8.956057    541.398504     95.666947    118.005978     84.987730\n",
       "min        1.000000      0.000000      0.500000      0.000000      0.000000\n",
       "25%        7.000000     40.000000      1.000000     10.000000     10.000000\n",
       "50%       14.000000    111.000000      1.000000     30.000000     22.000000\n",
       "75%       23.000000    280.000000      2.000000     80.000000     64.000000\n",
       "max       31.000000   7292.000000  12000.000000   3150.000000   3150.000000"
      ]
     },
     "execution_count": 6,
     "metadata": {},
     "output_type": "execute_result"
    }
   ],
   "source": [
    "store.describe()"
   ]
  },
  {
   "cell_type": "code",
   "execution_count": 7,
   "id": "4ba81cee",
   "metadata": {
    "execution": {
     "iopub.execute_input": "2024-03-03T13:28:24.388944Z",
     "iopub.status.busy": "2024-03-03T13:28:24.388150Z",
     "iopub.status.idle": "2024-03-03T13:28:24.439359Z",
     "shell.execute_reply": "2024-03-03T13:28:24.438255Z"
    },
    "papermill": {
     "duration": 0.064177,
     "end_time": "2024-03-03T13:28:24.441869",
     "exception": false,
     "start_time": "2024-03-03T13:28:24.377692",
     "status": "completed"
    },
    "tags": []
   },
   "outputs": [
    {
     "name": "stdout",
     "output_type": "stream",
     "text": [
      "<class 'pandas.core.frame.DataFrame'>\n",
      "RangeIndex: 26985 entries, 0 to 26984\n",
      "Data columns (total 14 columns):\n",
      " #   Column     Non-Null Count  Dtype  \n",
      "---  ------     --------------  -----  \n",
      " 0   MONTH      26985 non-null  object \n",
      " 1   STORECODE  26985 non-null  object \n",
      " 2   DAY        26985 non-null  int64  \n",
      " 3   BILL_ID    26985 non-null  object \n",
      " 4   BILL_AMT   26985 non-null  float64\n",
      " 5   QTY        26985 non-null  float64\n",
      " 6   VALUE      26985 non-null  float64\n",
      " 7   PRICE      26985 non-null  float64\n",
      " 8   GRP        26985 non-null  object \n",
      " 9   SGRP       26985 non-null  object \n",
      " 10  SSGRP      26985 non-null  object \n",
      " 11  CMP        26985 non-null  object \n",
      " 12  MBRD       26985 non-null  object \n",
      " 13  BRD        26985 non-null  object \n",
      "dtypes: float64(4), int64(1), object(9)\n",
      "memory usage: 2.9+ MB\n"
     ]
    }
   ],
   "source": [
    "store.info()"
   ]
  },
  {
   "cell_type": "code",
   "execution_count": 8,
   "id": "df1408e8",
   "metadata": {
    "execution": {
     "iopub.execute_input": "2024-03-03T13:28:24.462428Z",
     "iopub.status.busy": "2024-03-03T13:28:24.462009Z",
     "iopub.status.idle": "2024-03-03T13:28:24.468598Z",
     "shell.execute_reply": "2024-03-03T13:28:24.467574Z"
    },
    "papermill": {
     "duration": 0.019584,
     "end_time": "2024-03-03T13:28:24.470778",
     "exception": false,
     "start_time": "2024-03-03T13:28:24.451194",
     "status": "completed"
    },
    "tags": []
   },
   "outputs": [
    {
     "data": {
      "text/plain": [
       "Index(['MONTH', 'STORECODE', 'DAY', 'BILL_ID', 'BILL_AMT', 'QTY', 'VALUE',\n",
       "       'PRICE', 'GRP', 'SGRP', 'SSGRP', 'CMP', 'MBRD', 'BRD'],\n",
       "      dtype='object')"
      ]
     },
     "execution_count": 8,
     "metadata": {},
     "output_type": "execute_result"
    }
   ],
   "source": [
    "store.columns"
   ]
  },
  {
   "cell_type": "code",
   "execution_count": 9,
   "id": "8e296711",
   "metadata": {
    "execution": {
     "iopub.execute_input": "2024-03-03T13:28:24.491079Z",
     "iopub.status.busy": "2024-03-03T13:28:24.490684Z",
     "iopub.status.idle": "2024-03-03T13:28:24.525958Z",
     "shell.execute_reply": "2024-03-03T13:28:24.524863Z"
    },
    "papermill": {
     "duration": 0.04845,
     "end_time": "2024-03-03T13:28:24.528575",
     "exception": false,
     "start_time": "2024-03-03T13:28:24.480125",
     "status": "completed"
    },
    "tags": []
   },
   "outputs": [
    {
     "data": {
      "text/plain": [
       "MONTH        0\n",
       "STORECODE    0\n",
       "DAY          0\n",
       "BILL_ID      0\n",
       "BILL_AMT     0\n",
       "QTY          0\n",
       "VALUE        0\n",
       "PRICE        0\n",
       "GRP          0\n",
       "SGRP         0\n",
       "SSGRP        0\n",
       "CMP          0\n",
       "MBRD         0\n",
       "BRD          0\n",
       "dtype: int64"
      ]
     },
     "execution_count": 9,
     "metadata": {},
     "output_type": "execute_result"
    }
   ],
   "source": [
    "store.isna().sum()"
   ]
  },
  {
   "cell_type": "code",
   "execution_count": 10,
   "id": "ccf0b73b",
   "metadata": {
    "execution": {
     "iopub.execute_input": "2024-03-03T13:28:24.550126Z",
     "iopub.status.busy": "2024-03-03T13:28:24.549312Z",
     "iopub.status.idle": "2024-03-03T13:28:24.586760Z",
     "shell.execute_reply": "2024-03-03T13:28:24.585539Z"
    },
    "papermill": {
     "duration": 0.050967,
     "end_time": "2024-03-03T13:28:24.589257",
     "exception": false,
     "start_time": "2024-03-03T13:28:24.538290",
     "status": "completed"
    },
    "tags": []
   },
   "outputs": [
    {
     "data": {
      "text/plain": [
       "MONTH           3\n",
       "STORECODE      10\n",
       "DAY            31\n",
       "BILL_ID      6424\n",
       "BILL_AMT     1453\n",
       "QTY            45\n",
       "VALUE         640\n",
       "PRICE         492\n",
       "GRP            80\n",
       "SGRP          174\n",
       "SSGRP         232\n",
       "CMP           354\n",
       "MBRD          643\n",
       "BRD          1315\n",
       "dtype: int64"
      ]
     },
     "execution_count": 10,
     "metadata": {},
     "output_type": "execute_result"
    }
   ],
   "source": [
    "store.nunique()"
   ]
  },
  {
   "cell_type": "code",
   "execution_count": 11,
   "id": "239a8e10",
   "metadata": {
    "execution": {
     "iopub.execute_input": "2024-03-03T13:28:24.610990Z",
     "iopub.status.busy": "2024-03-03T13:28:24.610192Z",
     "iopub.status.idle": "2024-03-03T13:28:24.619427Z",
     "shell.execute_reply": "2024-03-03T13:28:24.618323Z"
    },
    "papermill": {
     "duration": 0.022439,
     "end_time": "2024-03-03T13:28:24.621533",
     "exception": false,
     "start_time": "2024-03-03T13:28:24.599094",
     "status": "completed"
    },
    "tags": []
   },
   "outputs": [
    {
     "data": {
      "text/plain": [
       "array(['M1', 'M2', 'M3'], dtype=object)"
      ]
     },
     "execution_count": 11,
     "metadata": {},
     "output_type": "execute_result"
    }
   ],
   "source": [
    "store['MONTH'].unique()"
   ]
  },
  {
   "cell_type": "code",
   "execution_count": 12,
   "id": "4bb72231",
   "metadata": {
    "execution": {
     "iopub.execute_input": "2024-03-03T13:28:24.644272Z",
     "iopub.status.busy": "2024-03-03T13:28:24.643618Z",
     "iopub.status.idle": "2024-03-03T13:28:24.704169Z",
     "shell.execute_reply": "2024-03-03T13:28:24.703104Z"
    },
    "papermill": {
     "duration": 0.074416,
     "end_time": "2024-03-03T13:28:24.706634",
     "exception": false,
     "start_time": "2024-03-03T13:28:24.632218",
     "status": "completed"
    },
    "tags": []
   },
   "outputs": [
    {
     "data": {
      "text/html": [
       "<div>\n",
       "<style scoped>\n",
       "    .dataframe tbody tr th:only-of-type {\n",
       "        vertical-align: middle;\n",
       "    }\n",
       "\n",
       "    .dataframe tbody tr th {\n",
       "        vertical-align: top;\n",
       "    }\n",
       "\n",
       "    .dataframe thead th {\n",
       "        text-align: right;\n",
       "    }\n",
       "</style>\n",
       "<table border=\"1\" class=\"dataframe\">\n",
       "  <thead>\n",
       "    <tr style=\"text-align: right;\">\n",
       "      <th></th>\n",
       "      <th>MONTH</th>\n",
       "      <th>STORECODE</th>\n",
       "      <th>DAY</th>\n",
       "      <th>BILL_ID</th>\n",
       "      <th>BILL_AMT</th>\n",
       "      <th>QTY</th>\n",
       "      <th>VALUE</th>\n",
       "      <th>PRICE</th>\n",
       "      <th>GRP</th>\n",
       "      <th>SGRP</th>\n",
       "      <th>SSGRP</th>\n",
       "      <th>CMP</th>\n",
       "      <th>MBRD</th>\n",
       "      <th>BRD</th>\n",
       "    </tr>\n",
       "  </thead>\n",
       "  <tbody>\n",
       "    <tr>\n",
       "      <th>0</th>\n",
       "      <td>M1</td>\n",
       "      <td>N1</td>\n",
       "      <td>4</td>\n",
       "      <td>T375</td>\n",
       "      <td>225.0</td>\n",
       "      <td>1.0</td>\n",
       "      <td>225.0</td>\n",
       "      <td>225.0</td>\n",
       "      <td>BUTTER MARGR  (4/94)</td>\n",
       "      <td>BUTTER</td>\n",
       "      <td>SALTED</td>\n",
       "      <td>G C M M F</td>\n",
       "      <td>AMUL</td>\n",
       "      <td>AMUL</td>\n",
       "    </tr>\n",
       "    <tr>\n",
       "      <th>1</th>\n",
       "      <td>M1</td>\n",
       "      <td>N1</td>\n",
       "      <td>4</td>\n",
       "      <td>T379</td>\n",
       "      <td>95.0</td>\n",
       "      <td>1.0</td>\n",
       "      <td>95.0</td>\n",
       "      <td>95.0</td>\n",
       "      <td>CONFECTIONERY - ECLAIRS</td>\n",
       "      <td>CONFECTIONERY - ECLAIRS</td>\n",
       "      <td>CONFECTIONERY - ECLAIRS</td>\n",
       "      <td>PARLE PRODS</td>\n",
       "      <td>MELODY</td>\n",
       "      <td>MELODY CHOCOLATY</td>\n",
       "    </tr>\n",
       "    <tr>\n",
       "      <th>2</th>\n",
       "      <td>M1</td>\n",
       "      <td>N1</td>\n",
       "      <td>4</td>\n",
       "      <td>T381</td>\n",
       "      <td>10.0</td>\n",
       "      <td>1.0</td>\n",
       "      <td>10.0</td>\n",
       "      <td>10.0</td>\n",
       "      <td>CHOCOLATE</td>\n",
       "      <td>CHOCOLATE PANNED</td>\n",
       "      <td>CHOCOLATE PANNED</td>\n",
       "      <td>MONDELEZ INTERNATIONAL</td>\n",
       "      <td>CADBURY SHOTS</td>\n",
       "      <td>CADBURY SHOTS</td>\n",
       "    </tr>\n",
       "    <tr>\n",
       "      <th>3</th>\n",
       "      <td>M1</td>\n",
       "      <td>N1</td>\n",
       "      <td>4</td>\n",
       "      <td>T382</td>\n",
       "      <td>108.0</td>\n",
       "      <td>1.0</td>\n",
       "      <td>108.0</td>\n",
       "      <td>108.0</td>\n",
       "      <td>PACKAGED TEA</td>\n",
       "      <td>MAIN PACKS</td>\n",
       "      <td>MAIN PACKS</td>\n",
       "      <td>GUJ TEA PROCESSORS</td>\n",
       "      <td>WAGH BAKRI</td>\n",
       "      <td>WAGH BAKRI INSTANT</td>\n",
       "    </tr>\n",
       "    <tr>\n",
       "      <th>4</th>\n",
       "      <td>M1</td>\n",
       "      <td>N1</td>\n",
       "      <td>4</td>\n",
       "      <td>T384</td>\n",
       "      <td>19.0</td>\n",
       "      <td>1.0</td>\n",
       "      <td>19.0</td>\n",
       "      <td>19.0</td>\n",
       "      <td>ALL IODISED SALT</td>\n",
       "      <td>POWDERED SALT</td>\n",
       "      <td>POWDERED SALT</td>\n",
       "      <td>TATA CHEM</td>\n",
       "      <td>TATA</td>\n",
       "      <td>TATA SALT</td>\n",
       "    </tr>\n",
       "    <tr>\n",
       "      <th>...</th>\n",
       "      <td>...</td>\n",
       "      <td>...</td>\n",
       "      <td>...</td>\n",
       "      <td>...</td>\n",
       "      <td>...</td>\n",
       "      <td>...</td>\n",
       "      <td>...</td>\n",
       "      <td>...</td>\n",
       "      <td>...</td>\n",
       "      <td>...</td>\n",
       "      <td>...</td>\n",
       "      <td>...</td>\n",
       "      <td>...</td>\n",
       "      <td>...</td>\n",
       "    </tr>\n",
       "    <tr>\n",
       "      <th>26980</th>\n",
       "      <td>M3</td>\n",
       "      <td>N10</td>\n",
       "      <td>31</td>\n",
       "      <td>T5999</td>\n",
       "      <td>10.0</td>\n",
       "      <td>1.0</td>\n",
       "      <td>10.0</td>\n",
       "      <td>10.0</td>\n",
       "      <td>BISCUITS - CORE &amp; NON CORE</td>\n",
       "      <td>NON-SALT CRACKER</td>\n",
       "      <td>NON-SALT CRACKER</td>\n",
       "      <td>PARLE PRODS</td>\n",
       "      <td>PARLE KRACK JACK</td>\n",
       "      <td>PARLE KRACK JACK</td>\n",
       "    </tr>\n",
       "    <tr>\n",
       "      <th>26981</th>\n",
       "      <td>M3</td>\n",
       "      <td>N10</td>\n",
       "      <td>31</td>\n",
       "      <td>T6007</td>\n",
       "      <td>88.0</td>\n",
       "      <td>1.0</td>\n",
       "      <td>10.0</td>\n",
       "      <td>10.0</td>\n",
       "      <td>BISCUITS - CORE &amp; NON CORE</td>\n",
       "      <td>MARIE</td>\n",
       "      <td>MARIE</td>\n",
       "      <td>PARLE PRODS</td>\n",
       "      <td>PARLE MARIE</td>\n",
       "      <td>PARLE MARIE</td>\n",
       "    </tr>\n",
       "    <tr>\n",
       "      <th>26982</th>\n",
       "      <td>M3</td>\n",
       "      <td>N10</td>\n",
       "      <td>31</td>\n",
       "      <td>T6007</td>\n",
       "      <td>88.0</td>\n",
       "      <td>2.0</td>\n",
       "      <td>20.0</td>\n",
       "      <td>10.0</td>\n",
       "      <td>BISCUITS - CORE &amp; NON CORE</td>\n",
       "      <td>GLUCOSE</td>\n",
       "      <td>GLUCOSE</td>\n",
       "      <td>PARLE PRODS</td>\n",
       "      <td>PARLE-G</td>\n",
       "      <td>PARLE-G</td>\n",
       "    </tr>\n",
       "    <tr>\n",
       "      <th>26983</th>\n",
       "      <td>M3</td>\n",
       "      <td>N10</td>\n",
       "      <td>31</td>\n",
       "      <td>T6007</td>\n",
       "      <td>88.0</td>\n",
       "      <td>1.0</td>\n",
       "      <td>58.0</td>\n",
       "      <td>58.0</td>\n",
       "      <td>CLEANERS - GLASS</td>\n",
       "      <td>LIQUIDS</td>\n",
       "      <td>LIQUIDS</td>\n",
       "      <td>RECKITT BENCKISER</td>\n",
       "      <td>COLIN</td>\n",
       "      <td>COLIN</td>\n",
       "    </tr>\n",
       "    <tr>\n",
       "      <th>26984</th>\n",
       "      <td>M3</td>\n",
       "      <td>N10</td>\n",
       "      <td>31</td>\n",
       "      <td>T6013</td>\n",
       "      <td>15.0</td>\n",
       "      <td>1.0</td>\n",
       "      <td>15.0</td>\n",
       "      <td>15.0</td>\n",
       "      <td>BISCUITS - CORE &amp; NON CORE</td>\n",
       "      <td>SWEET/COOKIES</td>\n",
       "      <td>SWEET/COOKIES</td>\n",
       "      <td>SAJ INDS</td>\n",
       "      <td>BISK FARM</td>\n",
       "      <td>BISK FARM JUST GINGER</td>\n",
       "    </tr>\n",
       "  </tbody>\n",
       "</table>\n",
       "<p>26985 rows × 14 columns</p>\n",
       "</div>"
      ],
      "text/plain": [
       "      MONTH STORECODE  DAY BILL_ID  BILL_AMT  QTY  VALUE  PRICE  \\\n",
       "0        M1        N1    4    T375     225.0  1.0  225.0  225.0   \n",
       "1        M1        N1    4    T379      95.0  1.0   95.0   95.0   \n",
       "2        M1        N1    4    T381      10.0  1.0   10.0   10.0   \n",
       "3        M1        N1    4    T382     108.0  1.0  108.0  108.0   \n",
       "4        M1        N1    4    T384      19.0  1.0   19.0   19.0   \n",
       "...     ...       ...  ...     ...       ...  ...    ...    ...   \n",
       "26980    M3       N10   31   T5999      10.0  1.0   10.0   10.0   \n",
       "26981    M3       N10   31   T6007      88.0  1.0   10.0   10.0   \n",
       "26982    M3       N10   31   T6007      88.0  2.0   20.0   10.0   \n",
       "26983    M3       N10   31   T6007      88.0  1.0   58.0   58.0   \n",
       "26984    M3       N10   31   T6013      15.0  1.0   15.0   15.0   \n",
       "\n",
       "                              GRP                     SGRP  \\\n",
       "0            BUTTER MARGR  (4/94)                   BUTTER   \n",
       "1         CONFECTIONERY - ECLAIRS  CONFECTIONERY - ECLAIRS   \n",
       "2                       CHOCOLATE         CHOCOLATE PANNED   \n",
       "3                    PACKAGED TEA               MAIN PACKS   \n",
       "4                ALL IODISED SALT            POWDERED SALT   \n",
       "...                           ...                      ...   \n",
       "26980  BISCUITS - CORE & NON CORE         NON-SALT CRACKER   \n",
       "26981  BISCUITS - CORE & NON CORE                    MARIE   \n",
       "26982  BISCUITS - CORE & NON CORE                  GLUCOSE   \n",
       "26983            CLEANERS - GLASS                  LIQUIDS   \n",
       "26984  BISCUITS - CORE & NON CORE            SWEET/COOKIES   \n",
       "\n",
       "                         SSGRP                     CMP              MBRD  \\\n",
       "0                       SALTED               G C M M F              AMUL   \n",
       "1      CONFECTIONERY - ECLAIRS             PARLE PRODS            MELODY   \n",
       "2             CHOCOLATE PANNED  MONDELEZ INTERNATIONAL     CADBURY SHOTS   \n",
       "3                   MAIN PACKS      GUJ TEA PROCESSORS        WAGH BAKRI   \n",
       "4                POWDERED SALT               TATA CHEM              TATA   \n",
       "...                        ...                     ...               ...   \n",
       "26980         NON-SALT CRACKER             PARLE PRODS  PARLE KRACK JACK   \n",
       "26981                    MARIE             PARLE PRODS       PARLE MARIE   \n",
       "26982                  GLUCOSE             PARLE PRODS           PARLE-G   \n",
       "26983                  LIQUIDS       RECKITT BENCKISER             COLIN   \n",
       "26984            SWEET/COOKIES                SAJ INDS         BISK FARM   \n",
       "\n",
       "                         BRD  \n",
       "0                       AMUL  \n",
       "1           MELODY CHOCOLATY  \n",
       "2              CADBURY SHOTS  \n",
       "3         WAGH BAKRI INSTANT  \n",
       "4                  TATA SALT  \n",
       "...                      ...  \n",
       "26980       PARLE KRACK JACK  \n",
       "26981            PARLE MARIE  \n",
       "26982                PARLE-G  \n",
       "26983                  COLIN  \n",
       "26984  BISK FARM JUST GINGER  \n",
       "\n",
       "[26985 rows x 14 columns]"
      ]
     },
     "execution_count": 12,
     "metadata": {},
     "output_type": "execute_result"
    }
   ],
   "source": [
    "duplicate = store.loc[store.duplicated()]\n",
    "duplicate\n",
    "store"
   ]
  },
  {
   "cell_type": "code",
   "execution_count": 13,
   "id": "0406522e",
   "metadata": {
    "execution": {
     "iopub.execute_input": "2024-03-03T13:28:24.729327Z",
     "iopub.status.busy": "2024-03-03T13:28:24.728712Z",
     "iopub.status.idle": "2024-03-03T13:28:24.755841Z",
     "shell.execute_reply": "2024-03-03T13:28:24.754355Z"
    },
    "papermill": {
     "duration": 0.041525,
     "end_time": "2024-03-03T13:28:24.758480",
     "exception": false,
     "start_time": "2024-03-03T13:28:24.716955",
     "status": "completed"
    },
    "tags": []
   },
   "outputs": [
    {
     "data": {
      "text/html": [
       "<div>\n",
       "<style scoped>\n",
       "    .dataframe tbody tr th:only-of-type {\n",
       "        vertical-align: middle;\n",
       "    }\n",
       "\n",
       "    .dataframe tbody tr th {\n",
       "        vertical-align: top;\n",
       "    }\n",
       "\n",
       "    .dataframe thead th {\n",
       "        text-align: right;\n",
       "    }\n",
       "</style>\n",
       "<table border=\"1\" class=\"dataframe\">\n",
       "  <thead>\n",
       "    <tr style=\"text-align: right;\">\n",
       "      <th></th>\n",
       "      <th>MONTH</th>\n",
       "      <th>STORECODE</th>\n",
       "      <th>DAY</th>\n",
       "      <th>BILL_ID</th>\n",
       "      <th>BILL_AMT</th>\n",
       "      <th>QTY</th>\n",
       "      <th>VALUE</th>\n",
       "      <th>PRICE</th>\n",
       "      <th>GRP</th>\n",
       "      <th>SGRP</th>\n",
       "      <th>SSGRP</th>\n",
       "      <th>CMP</th>\n",
       "      <th>MBRD</th>\n",
       "      <th>BRD</th>\n",
       "    </tr>\n",
       "  </thead>\n",
       "  <tbody>\n",
       "    <tr>\n",
       "      <th>0</th>\n",
       "      <td>M1</td>\n",
       "      <td>N1</td>\n",
       "      <td>4</td>\n",
       "      <td>T375</td>\n",
       "      <td>225.0</td>\n",
       "      <td>1.0</td>\n",
       "      <td>225.0</td>\n",
       "      <td>225.0</td>\n",
       "      <td>BUTTER MARGR  (4/94)</td>\n",
       "      <td>BUTTER</td>\n",
       "      <td>SALTED</td>\n",
       "      <td>G C M M F</td>\n",
       "      <td>AMUL</td>\n",
       "      <td>AMUL</td>\n",
       "    </tr>\n",
       "    <tr>\n",
       "      <th>1</th>\n",
       "      <td>M1</td>\n",
       "      <td>N1</td>\n",
       "      <td>4</td>\n",
       "      <td>T379</td>\n",
       "      <td>95.0</td>\n",
       "      <td>1.0</td>\n",
       "      <td>95.0</td>\n",
       "      <td>95.0</td>\n",
       "      <td>CONFECTIONERY - ECLAIRS</td>\n",
       "      <td>CONFECTIONERY - ECLAIRS</td>\n",
       "      <td>CONFECTIONERY - ECLAIRS</td>\n",
       "      <td>PARLE PRODS</td>\n",
       "      <td>MELODY</td>\n",
       "      <td>MELODY CHOCOLATY</td>\n",
       "    </tr>\n",
       "    <tr>\n",
       "      <th>2</th>\n",
       "      <td>M1</td>\n",
       "      <td>N1</td>\n",
       "      <td>4</td>\n",
       "      <td>T381</td>\n",
       "      <td>10.0</td>\n",
       "      <td>1.0</td>\n",
       "      <td>10.0</td>\n",
       "      <td>10.0</td>\n",
       "      <td>CHOCOLATE</td>\n",
       "      <td>CHOCOLATE PANNED</td>\n",
       "      <td>CHOCOLATE PANNED</td>\n",
       "      <td>MONDELEZ INTERNATIONAL</td>\n",
       "      <td>CADBURY SHOTS</td>\n",
       "      <td>CADBURY SHOTS</td>\n",
       "    </tr>\n",
       "    <tr>\n",
       "      <th>3</th>\n",
       "      <td>M1</td>\n",
       "      <td>N1</td>\n",
       "      <td>4</td>\n",
       "      <td>T382</td>\n",
       "      <td>108.0</td>\n",
       "      <td>1.0</td>\n",
       "      <td>108.0</td>\n",
       "      <td>108.0</td>\n",
       "      <td>PACKAGED TEA</td>\n",
       "      <td>MAIN PACKS</td>\n",
       "      <td>MAIN PACKS</td>\n",
       "      <td>GUJ TEA PROCESSORS</td>\n",
       "      <td>WAGH BAKRI</td>\n",
       "      <td>WAGH BAKRI INSTANT</td>\n",
       "    </tr>\n",
       "    <tr>\n",
       "      <th>4</th>\n",
       "      <td>M1</td>\n",
       "      <td>N1</td>\n",
       "      <td>4</td>\n",
       "      <td>T384</td>\n",
       "      <td>19.0</td>\n",
       "      <td>1.0</td>\n",
       "      <td>19.0</td>\n",
       "      <td>19.0</td>\n",
       "      <td>ALL IODISED SALT</td>\n",
       "      <td>POWDERED SALT</td>\n",
       "      <td>POWDERED SALT</td>\n",
       "      <td>TATA CHEM</td>\n",
       "      <td>TATA</td>\n",
       "      <td>TATA SALT</td>\n",
       "    </tr>\n",
       "    <tr>\n",
       "      <th>...</th>\n",
       "      <td>...</td>\n",
       "      <td>...</td>\n",
       "      <td>...</td>\n",
       "      <td>...</td>\n",
       "      <td>...</td>\n",
       "      <td>...</td>\n",
       "      <td>...</td>\n",
       "      <td>...</td>\n",
       "      <td>...</td>\n",
       "      <td>...</td>\n",
       "      <td>...</td>\n",
       "      <td>...</td>\n",
       "      <td>...</td>\n",
       "      <td>...</td>\n",
       "    </tr>\n",
       "    <tr>\n",
       "      <th>26980</th>\n",
       "      <td>M3</td>\n",
       "      <td>N10</td>\n",
       "      <td>31</td>\n",
       "      <td>T5999</td>\n",
       "      <td>10.0</td>\n",
       "      <td>1.0</td>\n",
       "      <td>10.0</td>\n",
       "      <td>10.0</td>\n",
       "      <td>BISCUITS - CORE &amp; NON CORE</td>\n",
       "      <td>NON-SALT CRACKER</td>\n",
       "      <td>NON-SALT CRACKER</td>\n",
       "      <td>PARLE PRODS</td>\n",
       "      <td>PARLE KRACK JACK</td>\n",
       "      <td>PARLE KRACK JACK</td>\n",
       "    </tr>\n",
       "    <tr>\n",
       "      <th>26981</th>\n",
       "      <td>M3</td>\n",
       "      <td>N10</td>\n",
       "      <td>31</td>\n",
       "      <td>T6007</td>\n",
       "      <td>88.0</td>\n",
       "      <td>1.0</td>\n",
       "      <td>10.0</td>\n",
       "      <td>10.0</td>\n",
       "      <td>BISCUITS - CORE &amp; NON CORE</td>\n",
       "      <td>MARIE</td>\n",
       "      <td>MARIE</td>\n",
       "      <td>PARLE PRODS</td>\n",
       "      <td>PARLE MARIE</td>\n",
       "      <td>PARLE MARIE</td>\n",
       "    </tr>\n",
       "    <tr>\n",
       "      <th>26982</th>\n",
       "      <td>M3</td>\n",
       "      <td>N10</td>\n",
       "      <td>31</td>\n",
       "      <td>T6007</td>\n",
       "      <td>88.0</td>\n",
       "      <td>2.0</td>\n",
       "      <td>20.0</td>\n",
       "      <td>10.0</td>\n",
       "      <td>BISCUITS - CORE &amp; NON CORE</td>\n",
       "      <td>GLUCOSE</td>\n",
       "      <td>GLUCOSE</td>\n",
       "      <td>PARLE PRODS</td>\n",
       "      <td>PARLE-G</td>\n",
       "      <td>PARLE-G</td>\n",
       "    </tr>\n",
       "    <tr>\n",
       "      <th>26983</th>\n",
       "      <td>M3</td>\n",
       "      <td>N10</td>\n",
       "      <td>31</td>\n",
       "      <td>T6007</td>\n",
       "      <td>88.0</td>\n",
       "      <td>1.0</td>\n",
       "      <td>58.0</td>\n",
       "      <td>58.0</td>\n",
       "      <td>CLEANERS - GLASS</td>\n",
       "      <td>LIQUIDS</td>\n",
       "      <td>LIQUIDS</td>\n",
       "      <td>RECKITT BENCKISER</td>\n",
       "      <td>COLIN</td>\n",
       "      <td>COLIN</td>\n",
       "    </tr>\n",
       "    <tr>\n",
       "      <th>26984</th>\n",
       "      <td>M3</td>\n",
       "      <td>N10</td>\n",
       "      <td>31</td>\n",
       "      <td>T6013</td>\n",
       "      <td>15.0</td>\n",
       "      <td>1.0</td>\n",
       "      <td>15.0</td>\n",
       "      <td>15.0</td>\n",
       "      <td>BISCUITS - CORE &amp; NON CORE</td>\n",
       "      <td>SWEET/COOKIES</td>\n",
       "      <td>SWEET/COOKIES</td>\n",
       "      <td>SAJ INDS</td>\n",
       "      <td>BISK FARM</td>\n",
       "      <td>BISK FARM JUST GINGER</td>\n",
       "    </tr>\n",
       "  </tbody>\n",
       "</table>\n",
       "<p>26985 rows × 14 columns</p>\n",
       "</div>"
      ],
      "text/plain": [
       "      MONTH STORECODE  DAY BILL_ID  BILL_AMT  QTY  VALUE  PRICE  \\\n",
       "0        M1        N1    4    T375     225.0  1.0  225.0  225.0   \n",
       "1        M1        N1    4    T379      95.0  1.0   95.0   95.0   \n",
       "2        M1        N1    4    T381      10.0  1.0   10.0   10.0   \n",
       "3        M1        N1    4    T382     108.0  1.0  108.0  108.0   \n",
       "4        M1        N1    4    T384      19.0  1.0   19.0   19.0   \n",
       "...     ...       ...  ...     ...       ...  ...    ...    ...   \n",
       "26980    M3       N10   31   T5999      10.0  1.0   10.0   10.0   \n",
       "26981    M3       N10   31   T6007      88.0  1.0   10.0   10.0   \n",
       "26982    M3       N10   31   T6007      88.0  2.0   20.0   10.0   \n",
       "26983    M3       N10   31   T6007      88.0  1.0   58.0   58.0   \n",
       "26984    M3       N10   31   T6013      15.0  1.0   15.0   15.0   \n",
       "\n",
       "                              GRP                     SGRP  \\\n",
       "0            BUTTER MARGR  (4/94)                   BUTTER   \n",
       "1         CONFECTIONERY - ECLAIRS  CONFECTIONERY - ECLAIRS   \n",
       "2                       CHOCOLATE         CHOCOLATE PANNED   \n",
       "3                    PACKAGED TEA               MAIN PACKS   \n",
       "4                ALL IODISED SALT            POWDERED SALT   \n",
       "...                           ...                      ...   \n",
       "26980  BISCUITS - CORE & NON CORE         NON-SALT CRACKER   \n",
       "26981  BISCUITS - CORE & NON CORE                    MARIE   \n",
       "26982  BISCUITS - CORE & NON CORE                  GLUCOSE   \n",
       "26983            CLEANERS - GLASS                  LIQUIDS   \n",
       "26984  BISCUITS - CORE & NON CORE            SWEET/COOKIES   \n",
       "\n",
       "                         SSGRP                     CMP              MBRD  \\\n",
       "0                       SALTED               G C M M F              AMUL   \n",
       "1      CONFECTIONERY - ECLAIRS             PARLE PRODS            MELODY   \n",
       "2             CHOCOLATE PANNED  MONDELEZ INTERNATIONAL     CADBURY SHOTS   \n",
       "3                   MAIN PACKS      GUJ TEA PROCESSORS        WAGH BAKRI   \n",
       "4                POWDERED SALT               TATA CHEM              TATA   \n",
       "...                        ...                     ...               ...   \n",
       "26980         NON-SALT CRACKER             PARLE PRODS  PARLE KRACK JACK   \n",
       "26981                    MARIE             PARLE PRODS       PARLE MARIE   \n",
       "26982                  GLUCOSE             PARLE PRODS           PARLE-G   \n",
       "26983                  LIQUIDS       RECKITT BENCKISER             COLIN   \n",
       "26984            SWEET/COOKIES                SAJ INDS         BISK FARM   \n",
       "\n",
       "                         BRD  \n",
       "0                       AMUL  \n",
       "1           MELODY CHOCOLATY  \n",
       "2              CADBURY SHOTS  \n",
       "3         WAGH BAKRI INSTANT  \n",
       "4                  TATA SALT  \n",
       "...                      ...  \n",
       "26980       PARLE KRACK JACK  \n",
       "26981            PARLE MARIE  \n",
       "26982                PARLE-G  \n",
       "26983                  COLIN  \n",
       "26984  BISK FARM JUST GINGER  \n",
       "\n",
       "[26985 rows x 14 columns]"
      ]
     },
     "execution_count": 13,
     "metadata": {},
     "output_type": "execute_result"
    }
   ],
   "source": [
    "store.reset_index(drop=\"true\")"
   ]
  },
  {
   "cell_type": "code",
   "execution_count": 14,
   "id": "760ace4d",
   "metadata": {
    "execution": {
     "iopub.execute_input": "2024-03-03T13:28:24.782317Z",
     "iopub.status.busy": "2024-03-03T13:28:24.781953Z",
     "iopub.status.idle": "2024-03-03T13:28:24.796363Z",
     "shell.execute_reply": "2024-03-03T13:28:24.795537Z"
    },
    "papermill": {
     "duration": 0.029535,
     "end_time": "2024-03-03T13:28:24.799085",
     "exception": false,
     "start_time": "2024-03-03T13:28:24.769550",
     "status": "completed"
    },
    "tags": []
   },
   "outputs": [
    {
     "name": "stdout",
     "output_type": "stream",
     "text": [
      "      MONTH STORECODE  DAY BILL_ID  BILL_AMT  QTY  VALUE  PRICE  \\\n",
      "0        M1        N1    4    T375     225.0  1.0  225.0  225.0   \n",
      "1        M1        N1    4    T379      95.0  1.0   95.0   95.0   \n",
      "2        M1        N1    4    T381      10.0  1.0   10.0   10.0   \n",
      "3        M1        N1    4    T382     108.0  1.0  108.0  108.0   \n",
      "4        M1        N1    4    T384      19.0  1.0   19.0   19.0   \n",
      "...     ...       ...  ...     ...       ...  ...    ...    ...   \n",
      "26980    M3       N10   31   T5999      10.0  1.0   10.0   10.0   \n",
      "26981    M3       N10   31   T6007      88.0  1.0   10.0   10.0   \n",
      "26982    M3       N10   31   T6007      88.0  2.0   20.0   10.0   \n",
      "26983    M3       N10   31   T6007      88.0  1.0   58.0   58.0   \n",
      "26984    M3       N10   31   T6013      15.0  1.0   15.0   15.0   \n",
      "\n",
      "                              GRP                     SGRP  \\\n",
      "0            BUTTER MARGR  (4/94)                   BUTTER   \n",
      "1         CONFECTIONERY - ECLAIRS  CONFECTIONERY - ECLAIRS   \n",
      "2                       CHOCOLATE         CHOCOLATE PANNED   \n",
      "3                    PACKAGED TEA               MAIN PACKS   \n",
      "4                ALL IODISED SALT            POWDERED SALT   \n",
      "...                           ...                      ...   \n",
      "26980  BISCUITS - CORE & NON CORE         NON-SALT CRACKER   \n",
      "26981  BISCUITS - CORE & NON CORE                    MARIE   \n",
      "26982  BISCUITS - CORE & NON CORE                  GLUCOSE   \n",
      "26983            CLEANERS - GLASS                  LIQUIDS   \n",
      "26984  BISCUITS - CORE & NON CORE            SWEET/COOKIES   \n",
      "\n",
      "                         SSGRP                     CMP              MBRD  \\\n",
      "0                       SALTED               G C M M F              AMUL   \n",
      "1      CONFECTIONERY - ECLAIRS             PARLE PRODS            MELODY   \n",
      "2             CHOCOLATE PANNED  MONDELEZ INTERNATIONAL     CADBURY SHOTS   \n",
      "3                   MAIN PACKS      GUJ TEA PROCESSORS        WAGH BAKRI   \n",
      "4                POWDERED SALT               TATA CHEM              TATA   \n",
      "...                        ...                     ...               ...   \n",
      "26980         NON-SALT CRACKER             PARLE PRODS  PARLE KRACK JACK   \n",
      "26981                    MARIE             PARLE PRODS       PARLE MARIE   \n",
      "26982                  GLUCOSE             PARLE PRODS           PARLE-G   \n",
      "26983                  LIQUIDS       RECKITT BENCKISER             COLIN   \n",
      "26984            SWEET/COOKIES                SAJ INDS         BISK FARM   \n",
      "\n",
      "                         BRD  \n",
      "0                       AMUL  \n",
      "1           MELODY CHOCOLATY  \n",
      "2              CADBURY SHOTS  \n",
      "3         WAGH BAKRI INSTANT  \n",
      "4                  TATA SALT  \n",
      "...                      ...  \n",
      "26980       PARLE KRACK JACK  \n",
      "26981            PARLE MARIE  \n",
      "26982                PARLE-G  \n",
      "26983                  COLIN  \n",
      "26984  BISK FARM JUST GINGER  \n",
      "\n",
      "[26985 rows x 14 columns]\n"
     ]
    }
   ],
   "source": [
    "print(store)"
   ]
  },
  {
   "cell_type": "code",
   "execution_count": 15,
   "id": "c04dc58a",
   "metadata": {
    "execution": {
     "iopub.execute_input": "2024-03-03T13:28:24.823811Z",
     "iopub.status.busy": "2024-03-03T13:28:24.823121Z",
     "iopub.status.idle": "2024-03-03T13:28:24.840403Z",
     "shell.execute_reply": "2024-03-03T13:28:24.839322Z"
    },
    "papermill": {
     "duration": 0.032703,
     "end_time": "2024-03-03T13:28:24.843023",
     "exception": false,
     "start_time": "2024-03-03T13:28:24.810320",
     "status": "completed"
    },
    "tags": []
   },
   "outputs": [],
   "source": [
    "store.drop(['BRD'], axis=1, inplace=True)\n",
    "store.drop(['SGRP'], axis=1, inplace=True)\n",
    "store.drop(['SSGRP'], axis=1, inplace=True)"
   ]
  },
  {
   "cell_type": "code",
   "execution_count": 16,
   "id": "1c121d24",
   "metadata": {
    "execution": {
     "iopub.execute_input": "2024-03-03T13:28:24.867106Z",
     "iopub.status.busy": "2024-03-03T13:28:24.866723Z",
     "iopub.status.idle": "2024-03-03T13:28:24.879607Z",
     "shell.execute_reply": "2024-03-03T13:28:24.878829Z"
    },
    "papermill": {
     "duration": 0.027879,
     "end_time": "2024-03-03T13:28:24.882135",
     "exception": false,
     "start_time": "2024-03-03T13:28:24.854256",
     "status": "completed"
    },
    "tags": []
   },
   "outputs": [
    {
     "name": "stdout",
     "output_type": "stream",
     "text": [
      "      MONTH STORECODE  DAY BILL_ID  BILL_AMT  QTY  VALUE  PRICE  \\\n",
      "0        M1        N1    4    T375     225.0  1.0  225.0  225.0   \n",
      "1        M1        N1    4    T379      95.0  1.0   95.0   95.0   \n",
      "2        M1        N1    4    T381      10.0  1.0   10.0   10.0   \n",
      "3        M1        N1    4    T382     108.0  1.0  108.0  108.0   \n",
      "4        M1        N1    4    T384      19.0  1.0   19.0   19.0   \n",
      "...     ...       ...  ...     ...       ...  ...    ...    ...   \n",
      "26980    M3       N10   31   T5999      10.0  1.0   10.0   10.0   \n",
      "26981    M3       N10   31   T6007      88.0  1.0   10.0   10.0   \n",
      "26982    M3       N10   31   T6007      88.0  2.0   20.0   10.0   \n",
      "26983    M3       N10   31   T6007      88.0  1.0   58.0   58.0   \n",
      "26984    M3       N10   31   T6013      15.0  1.0   15.0   15.0   \n",
      "\n",
      "                              GRP                     CMP              MBRD  \n",
      "0            BUTTER MARGR  (4/94)               G C M M F              AMUL  \n",
      "1         CONFECTIONERY - ECLAIRS             PARLE PRODS            MELODY  \n",
      "2                       CHOCOLATE  MONDELEZ INTERNATIONAL     CADBURY SHOTS  \n",
      "3                    PACKAGED TEA      GUJ TEA PROCESSORS        WAGH BAKRI  \n",
      "4                ALL IODISED SALT               TATA CHEM              TATA  \n",
      "...                           ...                     ...               ...  \n",
      "26980  BISCUITS - CORE & NON CORE             PARLE PRODS  PARLE KRACK JACK  \n",
      "26981  BISCUITS - CORE & NON CORE             PARLE PRODS       PARLE MARIE  \n",
      "26982  BISCUITS - CORE & NON CORE             PARLE PRODS           PARLE-G  \n",
      "26983            CLEANERS - GLASS       RECKITT BENCKISER             COLIN  \n",
      "26984  BISCUITS - CORE & NON CORE                SAJ INDS         BISK FARM  \n",
      "\n",
      "[26985 rows x 11 columns]\n"
     ]
    }
   ],
   "source": [
    "print(store)"
   ]
  },
  {
   "cell_type": "code",
   "execution_count": 17,
   "id": "1f070e1b",
   "metadata": {
    "execution": {
     "iopub.execute_input": "2024-03-03T13:28:24.907264Z",
     "iopub.status.busy": "2024-03-03T13:28:24.906140Z",
     "iopub.status.idle": "2024-03-03T13:28:24.912568Z",
     "shell.execute_reply": "2024-03-03T13:28:24.911579Z"
    },
    "papermill": {
     "duration": 0.021263,
     "end_time": "2024-03-03T13:28:24.914720",
     "exception": false,
     "start_time": "2024-03-03T13:28:24.893457",
     "status": "completed"
    },
    "tags": []
   },
   "outputs": [],
   "source": [
    "import matplotlib.pyplot as plt\n",
    "from matplotlib import style\n",
    "%matplotlib inline"
   ]
  },
  {
   "cell_type": "code",
   "execution_count": 18,
   "id": "9ab13637",
   "metadata": {
    "execution": {
     "iopub.execute_input": "2024-03-03T13:28:24.939546Z",
     "iopub.status.busy": "2024-03-03T13:28:24.938866Z",
     "iopub.status.idle": "2024-03-03T13:28:24.948959Z",
     "shell.execute_reply": "2024-03-03T13:28:24.947782Z"
    },
    "papermill": {
     "duration": 0.025367,
     "end_time": "2024-03-03T13:28:24.951596",
     "exception": false,
     "start_time": "2024-03-03T13:28:24.926229",
     "status": "completed"
    },
    "tags": []
   },
   "outputs": [],
   "source": [
    "a = dict(store['STORECODE'].value_counts())\n",
    "x = list(a.keys())\n",
    "y = list(a.values())"
   ]
  },
  {
   "cell_type": "code",
   "execution_count": 19,
   "id": "546e2027",
   "metadata": {
    "execution": {
     "iopub.execute_input": "2024-03-03T13:28:24.976673Z",
     "iopub.status.busy": "2024-03-03T13:28:24.975918Z",
     "iopub.status.idle": "2024-03-03T13:28:25.288545Z",
     "shell.execute_reply": "2024-03-03T13:28:25.287499Z"
    },
    "papermill": {
     "duration": 0.328193,
     "end_time": "2024-03-03T13:28:25.291212",
     "exception": false,
     "start_time": "2024-03-03T13:28:24.963019",
     "status": "completed"
    },
    "tags": []
   },
   "outputs": [
    {
     "data": {
      "image/png": "[encoded data removed]",
      "text/plain": [
       "<Figure size 640x480 with 1 Axes>"
      ]
     },
     "metadata": {},
     "output_type": "display_data"
    }
   ],
   "source": [
    "# ploting the top stores based ont hte analysis\n",
    "plt.bar(x,y)\n",
    "plt.xlabel('Store Names')\n",
    "plt.ylabel('Frequency')\n",
    "plt.title('TOP STORES')\n",
    "plt.show()"
   ]
  },
  {
   "cell_type": "code",
   "execution_count": 20,
   "id": "46f1e0b8",
   "metadata": {
    "execution": {
     "iopub.execute_input": "2024-03-03T13:28:25.316803Z",
     "iopub.status.busy": "2024-03-03T13:28:25.316436Z",
     "iopub.status.idle": "2024-03-03T13:29:07.872604Z",
     "shell.execute_reply": "2024-03-03T13:29:07.871447Z"
    },
    "papermill": {
     "duration": 42.584381,
     "end_time": "2024-03-03T13:29:07.887799",
     "exception": false,
     "start_time": "2024-03-03T13:28:25.303418",
     "status": "completed"
    },
    "tags": []
   },
   "outputs": [
    {
     "data": {
      "image/png": "[encoded data removed]",
      "text/plain": [
       "<Figure size 640x480 with 1 Axes>"
      ]
     },
     "metadata": {},
     "output_type": "display_data"
    }
   ],
   "source": [
    "plt.bar(store['DAY'],store['BILL_AMT'])\n",
    "plt.xlabel('DAY')\n",
    "plt.ylabel('BILL_AMT')\n",
    "plt.title('DAY VS BILL_AMT')\n",
    "plt.show()"
   ]
  },
  {
   "cell_type": "code",
   "execution_count": 21,
   "id": "341b2edf",
   "metadata": {
    "execution": {
     "iopub.execute_input": "2024-03-03T13:29:07.913778Z",
     "iopub.status.busy": "2024-03-03T13:29:07.913386Z",
     "iopub.status.idle": "2024-03-03T13:29:51.604412Z",
     "shell.execute_reply": "2024-03-03T13:29:51.603518Z"
    },
    "papermill": {
     "duration": 43.719269,
     "end_time": "2024-03-03T13:29:51.619048",
     "exception": false,
     "start_time": "2024-03-03T13:29:07.899779",
     "status": "completed"
    },
    "tags": []
   },
   "outputs": [
    {
     "data": {
      "image/png": "[encoded data removed]",
      "text/plain": [
       "<Figure size 640x480 with 1 Axes>"
      ]
     },
     "metadata": {},
     "output_type": "display_data"
    }
   ],
   "source": [
    "plt.bar(store['BILL_AMT'],store['STORECODE'])\n",
    "plt.xlabel('BILL_AMT')\n",
    "plt.ylabel('STORECODE')\n",
    "plt.title('Store vs BILL_AMT')\n",
    "plt.show()"
   ]
  },
  {
   "cell_type": "code",
   "execution_count": 22,
   "id": "f7ae8ca2",
   "metadata": {
    "execution": {
     "iopub.execute_input": "2024-03-03T13:29:51.645879Z",
     "iopub.status.busy": "2024-03-03T13:29:51.645481Z",
     "iopub.status.idle": "2024-03-03T13:29:51.959442Z",
     "shell.execute_reply": "2024-03-03T13:29:51.958577Z"
    },
    "papermill": {
     "duration": 0.330729,
     "end_time": "2024-03-03T13:29:51.962322",
     "exception": false,
     "start_time": "2024-03-03T13:29:51.631593",
     "status": "completed"
    },
    "tags": []
   },
   "outputs": [
    {
     "data": {
      "image/png": "[encoded data removed]",
      "text/plain": [
       "<Figure size 640x480 with 1 Axes>"
      ]
     },
     "metadata": {},
     "output_type": "display_data"
    }
   ],
   "source": [
    "b = dict(store['GRP'].value_counts().head(10))\n",
    "x1 = list(b.keys())\n",
    "y1 = list(b.values())\n",
    "plt.plot(x1,y1)\n",
    "plt.xticks(rotation=75) \n",
    "plt.title('TOP 10 BRANDS')\n",
    "plt.show()"
   ]
  },
  {
   "cell_type": "code",
   "execution_count": 23,
   "id": "8463deea",
   "metadata": {
    "execution": {
     "iopub.execute_input": "2024-03-03T13:29:51.992273Z",
     "iopub.status.busy": "2024-03-03T13:29:51.991858Z",
     "iopub.status.idle": "2024-03-03T13:30:35.648495Z",
     "shell.execute_reply": "2024-03-03T13:30:35.647424Z"
    },
    "papermill": {
     "duration": 43.688922,
     "end_time": "2024-03-03T13:30:35.665274",
     "exception": false,
     "start_time": "2024-03-03T13:29:51.976352",
     "status": "completed"
    },
    "tags": []
   },
   "outputs": [
    {
     "data": {
      "image/png": "[encoded data removed]",
      "text/plain": [
       "<Figure size 640x480 with 1 Axes>"
      ]
     },
     "metadata": {},
     "output_type": "display_data"
    }
   ],
   "source": [
    "plt.bar(store['MONTH'],store['BILL_AMT'])\n",
    "plt.title('MONTH VS BILL_AMT')\n",
    "plt.show()\n"
   ]
  },
  {
   "cell_type": "code",
   "execution_count": null,
   "id": "e80e6578",
   "metadata": {
    "papermill": {
     "duration": 0.013779,
     "end_time": "2024-03-03T13:30:35.693186",
     "exception": false,
     "start_time": "2024-03-03T13:30:35.679407",
     "status": "completed"
    },
    "tags": []
   },
   "outputs": [],
   "source": []
  }
 ],
 "metadata": {
  "kaggle": {
   "accelerator": "none",
   "dataSources": [
    {
     "datasetId": 560533,
     "sourceId": 1019220,
     "sourceType": "datasetVersion"
    }
   ],
   "dockerImageVersionId": 30664,
   "isGpuEnabled": false,
   "isInternetEnabled": false,
   "language": "python",
   "sourceType": "notebook"
  },
  "kernelspec": {
   "display_name": "Python 3",
   "language": "python",
   "name": "python3"
  },
  "language_info": {
   "codemirror_mode": {
    "name": "ipython",
    "version": 3
   },
   "file_extension": ".py",
   "mimetype": "text/x-python",
   "name": "python",
   "nbconvert_exporter": "python",
   "pygments_lexer": "ipython3",
   "version": "3.10.13"
  },
  "papermill": {
   "default_parameters": {},
   "duration": 137.300532,
   "end_time": "2024-03-03T13:30:37.433733",
   "environment_variables": {},
   "exception": null,
   "input_path": "__notebook__.ipynb",
   "output_path": "__notebook__.ipynb",
   "parameters": {},
   "start_time": "2024-03-03T13:28:20.133201",
   "version": "2.5.0"
  }
 },
 "nbformat": 4,
 "nbformat_minor": 5
}
